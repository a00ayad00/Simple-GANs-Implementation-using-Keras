{
  "cells": [
    {
      "cell_type": "markdown",
      "metadata": {
        "id": "5ihI5sDu0bWM"
      },
      "source": [
        "# MNIST Dataset Preparataion"
      ]
    },
    {
      "cell_type": "code",
      "execution_count": 1,
      "metadata": {
        "colab": {
          "base_uri": "https://localhost:8080/"
        },
        "id": "7xlCqLZYXv-w",
        "outputId": "00d77f4a-ddce-4d27-ab4f-907052bbfc82"
      },
      "outputs": [
        {
          "output_type": "stream",
          "name": "stdout",
          "text": [
            "Downloading data from https://storage.googleapis.com/tensorflow/tf-keras-datasets/mnist.npz\n",
            "11490434/11490434 [==============================] - 0s 0us/step\n"
          ]
        }
      ],
      "source": [
        "import tensorflow as tf\n",
        "from tensorflow import keras\n",
        "\n",
        "(x_train, _), (_, _) = keras.datasets.mnist.load_data()"
      ]
    },
    {
      "cell_type": "code",
      "execution_count": 2,
      "metadata": {
        "colab": {
          "base_uri": "https://localhost:8080/"
        },
        "id": "iGd6WB5aaKF1",
        "outputId": "8694ba09-44f0-4d93-d7db-7dbee5754096"
      },
      "outputs": [
        {
          "output_type": "stream",
          "name": "stdout",
          "text": [
            "uint8\n"
          ]
        },
        {
          "output_type": "execute_result",
          "data": {
            "text/plain": [
              "(60000, 28, 28)"
            ]
          },
          "metadata": {},
          "execution_count": 2
        }
      ],
      "source": [
        "print(x_train.dtype)\n",
        "x_train.shape"
      ]
    },
    {
      "cell_type": "markdown",
      "metadata": {
        "id": "B4wUdk281mYV"
      },
      "source": [
        "### Reshape the data to `(60000, 28, 28, 1)` and change the type to `float32`."
      ]
    },
    {
      "cell_type": "code",
      "execution_count": 3,
      "metadata": {
        "colab": {
          "base_uri": "https://localhost:8080/"
        },
        "id": "DR45nGcKytMr",
        "outputId": "d42d32d7-e9db-43fc-ede0-33c300a9c3c6"
      },
      "outputs": [
        {
          "output_type": "stream",
          "name": "stdout",
          "text": [
            "float32\n"
          ]
        },
        {
          "output_type": "execute_result",
          "data": {
            "text/plain": [
              "(60000, 28, 28, 1)"
            ]
          },
          "metadata": {},
          "execution_count": 3
        }
      ],
      "source": [
        "x_train = x_train[:, :, :, None].astype('float32')\n",
        "\n",
        "print(x_train.dtype)\n",
        "x_train.shape"
      ]
    },
    {
      "cell_type": "markdown",
      "metadata": {
        "id": "3tbhN3E82Pts"
      },
      "source": [
        "### Normalize the data between `[-1, 1]`."
      ]
    },
    {
      "cell_type": "code",
      "execution_count": 4,
      "metadata": {
        "colab": {
          "base_uri": "https://localhost:8080/"
        },
        "id": "E5nzo0sWZuyZ",
        "outputId": "ef3e9dc9-e75c-40f6-8985-8eca50ed8f64"
      },
      "outputs": [
        {
          "output_type": "stream",
          "name": "stdout",
          "text": [
            "1.0\n",
            "-1.0\n"
          ]
        }
      ],
      "source": [
        "# 255/2 = 127.5\n",
        "x_train = (x_train-127.5) / 127.5\n",
        "\n",
        "print(x_train.max())\n",
        "print(x_train.min())"
      ]
    },
    {
      "cell_type": "markdown",
      "metadata": {
        "id": "qPVK4yG48JxF"
      },
      "source": [
        "### Convert the data to `tf.data.Dataset` object, then, suffle and batch the data."
      ]
    },
    {
      "cell_type": "code",
      "execution_count": 5,
      "metadata": {
        "id": "GNFEFudQZeuq"
      },
      "outputs": [],
      "source": [
        "data = tf.data.Dataset.from_tensor_slices(x_train)\n",
        "\n",
        "data = data.shuffle(buffer_size=x_train.shape[0], reshuffle_each_iteration=True).batch(128)"
      ]
    },
    {
      "cell_type": "markdown",
      "metadata": {
        "id": "Rz_3YsG89cCN"
      },
      "source": [
        "# Modeling"
      ]
    },
    {
      "cell_type": "code",
      "execution_count": 6,
      "metadata": {
        "id": "GoF9TIWX4D4q"
      },
      "outputs": [],
      "source": [
        "from tensorflow.keras.layers import Reshape, Dense, Conv2D, Conv2DTranspose, BatchNormalization, MaxPooling2D, LeakyReLU, Dropout, Flatten\n",
        "from keras import Sequential\n",
        "from tensorflow.keras.losses import BinaryCrossentropy\n",
        "from tensorflow.keras.optimizers import Adam"
      ]
    },
    {
      "cell_type": "markdown",
      "metadata": {
        "id": "QpJYvng0jSgP"
      },
      "source": [
        "### Generator and Discriminator Model"
      ]
    },
    {
      "cell_type": "code",
      "source": [
        "noiseDim = 128"
      ],
      "metadata": {
        "id": "7r9YgSX4G1o0"
      },
      "execution_count": 7,
      "outputs": []
    },
    {
      "cell_type": "code",
      "execution_count": 8,
      "metadata": {
        "id": "-MqALT02YY5W"
      },
      "outputs": [],
      "source": [
        "generator = Sequential([\n",
        "    Dense(7*7*256, use_bias=False, input_shape=(noisDim,)),\n",
        "    BatchNormalization(),\n",
        "    LeakyReLU(),\n",
        "    Reshape((7, 7, 256)),\n",
        "\n",
        "    # parameters names --->>>> filters, kernel_size, strides, padding\n",
        "    Conv2DTranspose(128, 5, 1, 'same', use_bias=False),\n",
        "    BatchNormalization(),\n",
        "    LeakyReLU(),\n",
        "\n",
        "    Conv2DTranspose(32, 5, 2, 'same', use_bias=False),\n",
        "    BatchNormalization(),\n",
        "    LeakyReLU(),\n",
        "\n",
        "    Conv2DTranspose(1, 5, 2, 'same', use_bias=False, activation='tanh')\n",
        "])"
      ]
    },
    {
      "cell_type": "code",
      "source": [
        "generator.summary()"
      ],
      "metadata": {
        "colab": {
          "base_uri": "https://localhost:8080/"
        },
        "id": "WeOaIREIlHs-",
        "outputId": "26dbd437-f370-4f12-d5f5-613db1e66882"
      },
      "execution_count": 9,
      "outputs": [
        {
          "output_type": "stream",
          "name": "stdout",
          "text": [
            "Model: \"sequential\"\n",
            "_________________________________________________________________\n",
            " Layer (type)                Output Shape              Param #   \n",
            "=================================================================\n",
            " dense (Dense)               (None, 12544)             1605632   \n",
            "                                                                 \n",
            " batch_normalization (Batch  (None, 12544)             50176     \n",
            " Normalization)                                                  \n",
            "                                                                 \n",
            " leaky_re_lu (LeakyReLU)     (None, 12544)             0         \n",
            "                                                                 \n",
            " reshape (Reshape)           (None, 7, 7, 256)         0         \n",
            "                                                                 \n",
            " conv2d_transpose (Conv2DTr  (None, 7, 7, 128)         819200    \n",
            " anspose)                                                        \n",
            "                                                                 \n",
            " batch_normalization_1 (Bat  (None, 7, 7, 128)         512       \n",
            " chNormalization)                                                \n",
            "                                                                 \n",
            " leaky_re_lu_1 (LeakyReLU)   (None, 7, 7, 128)         0         \n",
            "                                                                 \n",
            " conv2d_transpose_1 (Conv2D  (None, 14, 14, 32)        102400    \n",
            " Transpose)                                                      \n",
            "                                                                 \n",
            " batch_normalization_2 (Bat  (None, 14, 14, 32)        128       \n",
            " chNormalization)                                                \n",
            "                                                                 \n",
            " leaky_re_lu_2 (LeakyReLU)   (None, 14, 14, 32)        0         \n",
            "                                                                 \n",
            " conv2d_transpose_2 (Conv2D  (None, 28, 28, 1)         800       \n",
            " Transpose)                                                      \n",
            "                                                                 \n",
            "=================================================================\n",
            "Total params: 2578848 (9.84 MB)\n",
            "Trainable params: 2553440 (9.74 MB)\n",
            "Non-trainable params: 25408 (99.25 KB)\n",
            "_________________________________________________________________\n"
          ]
        }
      ]
    },
    {
      "cell_type": "code",
      "execution_count": 10,
      "metadata": {
        "id": "3UJzjVarUYRP"
      },
      "outputs": [],
      "source": [
        "discriminator = Sequential([\n",
        "    # parameters names --->>>> filters, kernel_size, strides, padding\n",
        "    Conv2D(64, 5, 2, 'same'),\n",
        "    BatchNormalization(),\n",
        "    LeakyReLU(),\n",
        "    Dropout(0.3),\n",
        "\n",
        "    Conv2D(128, 5, 2, 'same'),\n",
        "    BatchNormalization(),\n",
        "    LeakyReLU(),\n",
        "    Dropout(0.3),\n",
        "\n",
        "    Flatten(),\n",
        "    Dense(1, activation='sigmoid')\n",
        "])"
      ]
    },
    {
      "cell_type": "markdown",
      "metadata": {
        "id": "r6oZCjw4jigY"
      },
      "source": [
        "### Models Losses and Optimizers"
      ]
    },
    {
      "cell_type": "code",
      "execution_count": 11,
      "metadata": {
        "id": "93wZ2DmxXgZh"
      },
      "outputs": [],
      "source": [
        "BCELoss = BinaryCrossentropy(from_logits=True)\n",
        "\n",
        "def genLoss(fake_imgs):\n",
        "    return BCELoss(tf.ones_like(fake_imgs), fake_imgs)\n",
        "\n",
        "def disLoss(real_imgs, fake_imgs):\n",
        "    realLoss = BCELoss(tf.ones_like(real_imgs), real_imgs)\n",
        "    fakeLoss = BCELoss(tf.zeros_like(fake_imgs), fake_imgs)\n",
        "    return realLoss + fakeLoss"
      ]
    },
    {
      "cell_type": "code",
      "source": [
        "genOptimizer = Adam()\n",
        "disOptimizer = Adam()"
      ],
      "metadata": {
        "id": "_hKTMwh-brwt"
      },
      "execution_count": 12,
      "outputs": []
    },
    {
      "cell_type": "markdown",
      "source": [
        "# Training"
      ],
      "metadata": {
        "id": "3dcpwZ5xcxNT"
      }
    },
    {
      "cell_type": "markdown",
      "source": [
        "### Save Checkpoints"
      ],
      "metadata": {
        "id": "b-bedScYtppf"
      }
    },
    {
      "cell_type": "code",
      "source": [
        "import os\n",
        "\n",
        "ckpt_dir = './training_checkpoints/ckpt'\n",
        "if not os.path.exists(ckpt_dir): os.makedirs(ckpt_dir)"
      ],
      "metadata": {
        "id": "m7uQuUxRt0Ft"
      },
      "execution_count": 13,
      "outputs": []
    },
    {
      "cell_type": "code",
      "source": [
        "checkpoint = tf.train.Checkpoint(\n",
        "    generator_optimizer=genOptimizer,\n",
        "    discriminator_optimizer=disOptimizer,\n",
        "    generator=generator,\n",
        "    discriminator=discriminator\n",
        ")"
      ],
      "metadata": {
        "id": "U8jWjshmwA7C"
      },
      "execution_count": 14,
      "outputs": []
    },
    {
      "cell_type": "markdown",
      "source": [
        "### Training Phase"
      ],
      "metadata": {
        "id": "h3gxpYuqt0xH"
      }
    },
    {
      "cell_type": "code",
      "source": [
        "import time\n",
        "\n",
        "for epoch in range(50):\n",
        "    start = time.time()\n",
        "    noise_vecs = tf.random.normal((128, noiseDim))\n",
        "\n",
        "    for real_imgs in data:  # Remember: the batch size is 128\n",
        "        with tf.GradientTape() as gen_tape, tf.GradientTape() as dis_tape:\n",
        "            generated_imgs = generator(noise_vecs, training=True)\n",
        "\n",
        "            disc_real_output = discriminator(real_imgs, training=True)\n",
        "            disc_fake_output = discriminator(generated_imgs, training=True)\n",
        "\n",
        "            gen_loss = genLoss(disc_fake_output)\n",
        "            dis_loss = disLoss(disc_real_output, disc_fake_output)\n",
        "\n",
        "        genGradients = gen_tape.gradient(gen_loss, generator.trainable_variables)\n",
        "        genOptimizer.apply_gradients(zip(genGradients, generator.trainable_variables))\n",
        "\n",
        "        disGradients = dis_tape.gradient(dis_loss, discriminator.trainable_variables)\n",
        "        disOptimizer.apply_gradients(zip(disGradients, discriminator.trainable_variables))\n",
        "\n",
        "    # Save the model every 10 epochs\n",
        "    if (epoch + 1) % 10 == 0: checkpoint.save(file_prefix = ckpt_dir)\n",
        "    print('Time for epoch {} is {} sec'.format(epoch + 1, time.time()-start))\n",
        "    print(f'Generator Loss: {tf.reduce_mean(gen_loss)} --------------- Discrimator Loss: {tf.reduce_mean(dis_loss)}\\n')"
      ],
      "metadata": {
        "colab": {
          "base_uri": "https://localhost:8080/"
        },
        "id": "Yjlafj3JcvYB",
        "outputId": "3e5af804-5071-4d42-e960-c3a6f5e42cd9"
      },
      "execution_count": 15,
      "outputs": [
        {
          "output_type": "stream",
          "name": "stderr",
          "text": [
            "/usr/local/lib/python3.10/dist-packages/keras/src/backend.py:5818: UserWarning: \"`binary_crossentropy` received `from_logits=True`, but the `output` argument was produced by a Sigmoid activation and thus does not represent logits. Was this intended?\n",
            "  output, from_logits = _get_logits(\n",
            "WARNING:tensorflow:5 out of the last 5 calls to <function _BaseOptimizer._update_step_xla at 0x7bf57c938550> triggered tf.function retracing. Tracing is expensive and the excessive number of tracings could be due to (1) creating @tf.function repeatedly in a loop, (2) passing tensors with different shapes, (3) passing Python objects instead of tensors. For (1), please define your @tf.function outside of the loop. For (2), @tf.function has reduce_retracing=True option that can avoid unnecessary retracing. For (3), please refer to https://www.tensorflow.org/guide/function#controlling_retracing and https://www.tensorflow.org/api_docs/python/tf/function for  more details.\n",
            "WARNING:tensorflow:6 out of the last 6 calls to <function _BaseOptimizer._update_step_xla at 0x7bf57c938550> triggered tf.function retracing. Tracing is expensive and the excessive number of tracings could be due to (1) creating @tf.function repeatedly in a loop, (2) passing tensors with different shapes, (3) passing Python objects instead of tensors. For (1), please define your @tf.function outside of the loop. For (2), @tf.function has reduce_retracing=True option that can avoid unnecessary retracing. For (3), please refer to https://www.tensorflow.org/guide/function#controlling_retracing and https://www.tensorflow.org/api_docs/python/tf/function for  more details.\n"
          ]
        },
        {
          "output_type": "stream",
          "name": "stdout",
          "text": [
            "Time for epoch 1 is 73.03445386886597 sec\n",
            "Generator Loss: 3.6088013648986816 --------------- Discrimator Loss: 0.19880351424217224\n",
            "\n",
            "Time for epoch 2 is 51.809582233428955 sec\n",
            "Generator Loss: 2.3641483783721924 --------------- Discrimator Loss: 0.6994775533676147\n",
            "\n",
            "Time for epoch 3 is 49.620569944381714 sec\n",
            "Generator Loss: 3.6840295791625977 --------------- Discrimator Loss: 0.441979318857193\n",
            "\n",
            "Time for epoch 4 is 49.80181837081909 sec\n",
            "Generator Loss: 2.411440849304199 --------------- Discrimator Loss: 0.7110388875007629\n",
            "\n",
            "Time for epoch 5 is 53.692999601364136 sec\n",
            "Generator Loss: 2.128495454788208 --------------- Discrimator Loss: 1.0599100589752197\n",
            "\n",
            "Time for epoch 6 is 51.75793957710266 sec\n",
            "Generator Loss: 1.4922096729278564 --------------- Discrimator Loss: 1.0503432750701904\n",
            "\n",
            "Time for epoch 7 is 52.380656242370605 sec\n",
            "Generator Loss: 1.9663774967193604 --------------- Discrimator Loss: 0.6277605891227722\n",
            "\n",
            "Time for epoch 8 is 52.33690690994263 sec\n",
            "Generator Loss: 1.8208001852035522 --------------- Discrimator Loss: 1.0936894416809082\n",
            "\n",
            "Time for epoch 9 is 53.420398473739624 sec\n",
            "Generator Loss: 1.375728964805603 --------------- Discrimator Loss: 1.2071247100830078\n",
            "\n",
            "Time for epoch 10 is 52.125162839889526 sec\n",
            "Generator Loss: 2.181497573852539 --------------- Discrimator Loss: 0.8415008783340454\n",
            "\n",
            "Time for epoch 11 is 50.929184436798096 sec\n",
            "Generator Loss: 0.9572365283966064 --------------- Discrimator Loss: 1.1059280633926392\n",
            "\n",
            "Time for epoch 12 is 51.580681800842285 sec\n",
            "Generator Loss: 1.5151662826538086 --------------- Discrimator Loss: 1.199573040008545\n",
            "\n",
            "Time for epoch 13 is 81.90449404716492 sec\n",
            "Generator Loss: 1.2675617933273315 --------------- Discrimator Loss: 1.2999944686889648\n",
            "\n",
            "Time for epoch 14 is 51.80597162246704 sec\n",
            "Generator Loss: 1.1801475286483765 --------------- Discrimator Loss: 1.2986764907836914\n",
            "\n",
            "Time for epoch 15 is 51.37223935127258 sec\n",
            "Generator Loss: 1.169816493988037 --------------- Discrimator Loss: 1.325469970703125\n",
            "\n",
            "Time for epoch 16 is 52.57508683204651 sec\n",
            "Generator Loss: 1.3290257453918457 --------------- Discrimator Loss: 1.1819058656692505\n",
            "\n",
            "Time for epoch 17 is 52.76807403564453 sec\n",
            "Generator Loss: 1.1230566501617432 --------------- Discrimator Loss: 1.274064540863037\n",
            "\n",
            "Time for epoch 18 is 54.320780754089355 sec\n",
            "Generator Loss: 1.2904257774353027 --------------- Discrimator Loss: 1.6666696071624756\n",
            "\n",
            "Time for epoch 19 is 52.26754665374756 sec\n",
            "Generator Loss: 1.0147783756256104 --------------- Discrimator Loss: 1.2738971710205078\n",
            "\n",
            "Time for epoch 20 is 52.44129729270935 sec\n",
            "Generator Loss: 0.8396420478820801 --------------- Discrimator Loss: 1.0793424844741821\n",
            "\n",
            "Time for epoch 21 is 81.90373349189758 sec\n",
            "Generator Loss: 1.0907471179962158 --------------- Discrimator Loss: 1.5879111289978027\n",
            "\n",
            "Time for epoch 22 is 81.9048171043396 sec\n",
            "Generator Loss: 1.884649395942688 --------------- Discrimator Loss: 1.121779441833496\n",
            "\n",
            "Time for epoch 23 is 65.42979574203491 sec\n",
            "Generator Loss: 1.132349967956543 --------------- Discrimator Loss: 1.5061554908752441\n",
            "\n",
            "Time for epoch 24 is 81.90427136421204 sec\n",
            "Generator Loss: 1.2891267538070679 --------------- Discrimator Loss: 1.1040812730789185\n",
            "\n",
            "Time for epoch 25 is 81.90457391738892 sec\n",
            "Generator Loss: 1.0989060401916504 --------------- Discrimator Loss: 1.1250191926956177\n",
            "\n",
            "Time for epoch 26 is 53.05274271965027 sec\n",
            "Generator Loss: 0.8237628936767578 --------------- Discrimator Loss: 1.316923975944519\n",
            "\n",
            "Time for epoch 27 is 53.257158279418945 sec\n",
            "Generator Loss: 0.9202014207839966 --------------- Discrimator Loss: 1.3571367263793945\n",
            "\n",
            "Time for epoch 28 is 53.662134408950806 sec\n",
            "Generator Loss: 1.1388739347457886 --------------- Discrimator Loss: 1.2928950786590576\n",
            "\n",
            "Time for epoch 29 is 81.90323996543884 sec\n",
            "Generator Loss: 1.213122844696045 --------------- Discrimator Loss: 1.097771167755127\n",
            "\n",
            "Time for epoch 30 is 50.604838848114014 sec\n",
            "Generator Loss: 1.0622165203094482 --------------- Discrimator Loss: 1.4707574844360352\n",
            "\n",
            "Time for epoch 31 is 81.91043543815613 sec\n",
            "Generator Loss: 1.03693425655365 --------------- Discrimator Loss: 1.4093623161315918\n",
            "\n",
            "Time for epoch 32 is 81.90334558486938 sec\n",
            "Generator Loss: 1.061206579208374 --------------- Discrimator Loss: 1.302309513092041\n",
            "\n",
            "Time for epoch 33 is 81.90401220321655 sec\n",
            "Generator Loss: 0.9587161540985107 --------------- Discrimator Loss: 1.3072128295898438\n",
            "\n",
            "Time for epoch 34 is 48.919697761535645 sec\n",
            "Generator Loss: 0.8661676049232483 --------------- Discrimator Loss: 1.3218746185302734\n",
            "\n",
            "Time for epoch 35 is 49.85267925262451 sec\n",
            "Generator Loss: 1.055060863494873 --------------- Discrimator Loss: 1.1436822414398193\n",
            "\n",
            "Time for epoch 36 is 49.591557025909424 sec\n",
            "Generator Loss: 1.3193405866622925 --------------- Discrimator Loss: 1.3235238790512085\n",
            "\n",
            "Time for epoch 37 is 81.9034035205841 sec\n",
            "Generator Loss: 0.9368816614151001 --------------- Discrimator Loss: 1.450178861618042\n",
            "\n",
            "Time for epoch 38 is 49.10308337211609 sec\n",
            "Generator Loss: 0.9895308017730713 --------------- Discrimator Loss: 1.3575284481048584\n",
            "\n",
            "Time for epoch 39 is 50.29875707626343 sec\n",
            "Generator Loss: 0.7910065650939941 --------------- Discrimator Loss: 1.4556337594985962\n",
            "\n",
            "Time for epoch 40 is 48.51203370094299 sec\n",
            "Generator Loss: 1.066044807434082 --------------- Discrimator Loss: 1.2461192607879639\n",
            "\n",
            "Time for epoch 41 is 48.357691049575806 sec\n",
            "Generator Loss: 1.096086025238037 --------------- Discrimator Loss: 1.1733102798461914\n",
            "\n",
            "Time for epoch 42 is 48.90838170051575 sec\n",
            "Generator Loss: 0.7283543348312378 --------------- Discrimator Loss: 1.4299917221069336\n",
            "\n",
            "Time for epoch 43 is 48.191975355148315 sec\n",
            "Generator Loss: 0.8263744115829468 --------------- Discrimator Loss: 1.3360826969146729\n",
            "\n",
            "Time for epoch 44 is 49.247478008270264 sec\n",
            "Generator Loss: 1.2119786739349365 --------------- Discrimator Loss: 1.1817119121551514\n",
            "\n",
            "Time for epoch 45 is 48.95834445953369 sec\n",
            "Generator Loss: 0.9736358523368835 --------------- Discrimator Loss: 1.2330107688903809\n",
            "\n",
            "Time for epoch 46 is 47.976208209991455 sec\n",
            "Generator Loss: 0.9083624482154846 --------------- Discrimator Loss: 1.3446285724639893\n",
            "\n",
            "Time for epoch 47 is 48.41933083534241 sec\n",
            "Generator Loss: 0.996910035610199 --------------- Discrimator Loss: 1.2849994897842407\n",
            "\n",
            "Time for epoch 48 is 49.088661432266235 sec\n",
            "Generator Loss: 1.2197442054748535 --------------- Discrimator Loss: 1.2046996355056763\n",
            "\n",
            "Time for epoch 49 is 81.90342164039612 sec\n",
            "Generator Loss: 1.030349850654602 --------------- Discrimator Loss: 1.1705522537231445\n",
            "\n",
            "Time for epoch 50 is 48.879358530044556 sec\n",
            "Generator Loss: 0.8886991739273071 --------------- Discrimator Loss: 1.319359540939331\n",
            "\n"
          ]
        }
      ]
    },
    {
      "cell_type": "code",
      "source": [
        "# checkpoint.restore(tf.train.latest_checkpoint(ckpt))"
      ],
      "metadata": {
        "id": "MEvIWooL0K6y"
      },
      "execution_count": 15,
      "outputs": []
    },
    {
      "cell_type": "markdown",
      "source": [
        "# Predictions"
      ],
      "metadata": {
        "id": "99GvxpDc_0kt"
      }
    },
    {
      "cell_type": "code",
      "execution_count": 18,
      "metadata": {
        "id": "BkV_xOULjqJe",
        "colab": {
          "base_uri": "https://localhost:8080/",
          "height": 345
        },
        "outputId": "31e843a2-a01c-4a79-9d65-fb7179890b36"
      },
      "outputs": [
        {
          "output_type": "display_data",
          "data": {
            "text/plain": [
              "<Figure size 400x400 with 16 Axes>"
            ],
            "image/png": "[encoded data removed]"
          },
          "metadata": {}
        }
      ],
      "source": [
        "import matplotlib.pyplot as plt\n",
        "\n",
        "# Save and Load the generator weights\n",
        "# generator.save_weights('generator_weights.h5')\n",
        "# generator.load_weights('generator_weights.h5')\n",
        "\n",
        "# Generate some fake images using the trained generator\n",
        "sample_noise = tf.random.normal([16, noiseDim])\n",
        "generated_images = generator(sample_noise, training=False)\n",
        "\n",
        "fig = plt.figure(figsize=(4,4))\n",
        "for i in range(generated_images.shape[0]):\n",
        "    plt.subplot(4, 4, i+1)\n",
        "    plt.imshow((generated_images[i]*0.5 + 0.5).numpy())\n",
        "    plt.axis('off')\n",
        "plt.show()"
      ]
    },
    {
      "cell_type": "code",
      "source": [],
      "metadata": {
        "id": "RCmzUdRUJuqg"
      },
      "execution_count": null,
      "outputs": []
    }
  ],
  "metadata": {
    "colab": {
      "provenance": [],
      "gpuType": "T4"
    },
    "kernelspec": {
      "display_name": "Python 3",
      "name": "python3"
    },
    "language_info": {
      "name": "python"
    },
    "accelerator": "GPU"
  },
  "nbformat": 4,
  "nbformat_minor": 0
}